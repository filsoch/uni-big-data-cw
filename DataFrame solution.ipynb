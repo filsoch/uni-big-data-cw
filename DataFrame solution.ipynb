{
 "cells": [
  {
   "cell_type": "code",
   "execution_count": 0,
   "metadata": {
    "application/vnd.databricks.v1+cell": {
     "cellMetadata": {
      "byteLimit": 2048000,
      "rowLimit": 10000
     },
     "inputWidgets": {},
     "nuid": "d7e4fb72-e6e5-4f0b-a6e7-be467e8ead84",
     "showTitle": false,
     "title": ""
    }
   },
   "outputs": [],
   "source": [
    "#SETUP\n",
    "\n",
    "#importing functions and creating spark session\n",
    "from pyspark.sql.functions import *\n",
    "from pyspark.sql import SparkSession\n",
    "spark = SparkSession.builder.getOrCreate()\n",
    "\n",
    "#Loading files into dataframes\n",
    "\n",
    "# to update the journal file only the path_journal_info variable needs to be changed\n",
    "path_journal_info = \"/FileStore/tables/journal_information.csv\"\n",
    "journal_info = spark.read.option('header', True).csv(path_journal_info)\n",
    "\n",
    "# to update the publications file only the path_df variable needs to be changed\n",
    "path_df = \"/FileStore/tables/large.json.gz\"\n",
    "publications_df = spark.read.json(path_df)"
   ]
  },
  {
   "cell_type": "code",
   "execution_count": 0,
   "metadata": {
    "application/vnd.databricks.v1+cell": {
     "cellMetadata": {
      "byteLimit": 2048000,
      "rowLimit": 10000
     },
     "inputWidgets": {},
     "nuid": "653effe7-e5e7-48c5-acdd-da5147240874",
     "showTitle": false,
     "title": ""
    }
   },
   "outputs": [],
   "source": [
    "#pre-processing\n",
    "\n",
    "#chainging column names with spaces to make querying easier\n",
    "journal_info = journal_info.withColumnRenamed(\"Journal Name\", \"journal_name\") \n",
    "journal_info = journal_info.withColumnRenamed(\"Category & Journal Quartiles\", \"category_and_journal_quartiles\") \n",
    "\n",
    "#removing null row\n",
    "journal_info = journal_info.dropna(subset=['journal_name'])"
   ]
  },
  {
   "cell_type": "code",
   "execution_count": 0,
   "metadata": {
    "application/vnd.databricks.v1+cell": {
     "cellMetadata": {
      "byteLimit": 2048000,
      "rowLimit": 10000
     },
     "inputWidgets": {},
     "nuid": "73e9fbf1-3053-4bcf-a47e-3b706394dcae",
     "showTitle": false,
     "title": ""
    }
   },
   "outputs": [
    {
     "output_type": "stream",
     "name": "stdout",
     "output_type": "stream",
     "text": [
      "Total number of papers: 150000\nNumber of distinct IDs: 150000\nAll papers have unique IDs.\n"
     ]
    }
   ],
   "source": [
    "#question 1\n",
    "\n",
    "#first checking the total number of rows in file\n",
    "total_count = publications_df.count()\n",
    "\n",
    "# Counting the number of distinct 'corpusid' values\n",
    "distinct_id_count = publications_df.select(col(\"corpusid\")).distinct().count()\n",
    "\n",
    "#printing answers\n",
    "print(f\"Total number of papers: {total_count}\")\n",
    "print(f\"Number of distinct IDs: {distinct_id_count}\")\n",
    "\n",
    "# Checking if all papers have unique IDs\n",
    "if distinct_id_count == total_count:\n",
    "    print(\"All papers have unique IDs.\")\n",
    "else:\n",
    "    print(\"There are duplicate IDs in the dataset.\")"
   ]
  },
  {
   "cell_type": "code",
   "execution_count": 0,
   "metadata": {
    "application/vnd.databricks.v1+cell": {
     "cellMetadata": {
      "byteLimit": 2048000,
      "rowLimit": 10000
     },
     "inputWidgets": {},
     "nuid": "3562f93c-5945-4317-a440-b7dd6452044e",
     "showTitle": false,
     "title": ""
    }
   },
   "outputs": [
    {
     "output_type": "display_data",
     "data": {
      "text/html": [
       "<style scoped>\n",
       "  .table-result-container {\n",
       "    max-height: 300px;\n",
       "    overflow: auto;\n",
       "  }\n",
       "  table, th, td {\n",
       "    border: 1px solid black;\n",
       "    border-collapse: collapse;\n",
       "  }\n",
       "  th, td {\n",
       "    padding: 5px;\n",
       "  }\n",
       "  th {\n",
       "    text-align: left;\n",
       "  }\n",
       "</style><div class='table-result-container'><table class='table-result'><thead style='background-color: white'><tr><th>category</th><th>count</th></tr></thead><tbody><tr><td>Medicine</td><td>65619</td></tr><tr><td>Engineering</td><td>24799</td></tr><tr><td>Biology</td><td>19676</td></tr><tr><td>Computer Science</td><td>19043</td></tr><tr><td>Chemistry</td><td>18220</td></tr><tr><td>Environmental Science</td><td>16847</td></tr><tr><td>Materials Science</td><td>16012</td></tr><tr><td>Physics</td><td>15303</td></tr><tr><td>Psychology</td><td>9010</td></tr><tr><td>Political Science</td><td>7189</td></tr><tr><td>Business</td><td>6953</td></tr><tr><td>Mathematics</td><td>6781</td></tr><tr><td>History</td><td>6547</td></tr><tr><td>Sociology</td><td>6455</td></tr><tr><td>Economics</td><td>6073</td></tr><tr><td>Education</td><td>5114</td></tr><tr><td>Agricultural and Food Sciences</td><td>3864</td></tr><tr><td>Geology</td><td>3745</td></tr><tr><td>Geography</td><td>3555</td></tr><tr><td>Art</td><td>3101</td></tr><tr><td>Philosophy</td><td>2679</td></tr><tr><td>Law</td><td>2201</td></tr><tr><td>Linguistics</td><td>1386</td></tr><tr><td>Agricultural And Food Sciences</td><td>67</td></tr></tbody></table></div>"
      ]
     },
     "metadata": {
      "application/vnd.databricks.v1+output": {
       "addedWidgets": {},
       "aggData": [],
       "aggError": "",
       "aggOverflow": false,
       "aggSchema": [],
       "aggSeriesLimitReached": false,
       "aggType": "",
       "arguments": {},
       "columnCustomDisplayInfos": {},
       "data": [
        [
         "Medicine",
         65619
        ],
        [
         "Engineering",
         24799
        ],
        [
         "Biology",
         19676
        ],
        [
         "Computer Science",
         19043
        ],
        [
         "Chemistry",
         18220
        ],
        [
         "Environmental Science",
         16847
        ],
        [
         "Materials Science",
         16012
        ],
        [
         "Physics",
         15303
        ],
        [
         "Psychology",
         9010
        ],
        [
         "Political Science",
         7189
        ],
        [
         "Business",
         6953
        ],
        [
         "Mathematics",
         6781
        ],
        [
         "History",
         6547
        ],
        [
         "Sociology",
         6455
        ],
        [
         "Economics",
         6073
        ],
        [
         "Education",
         5114
        ],
        [
         "Agricultural and Food Sciences",
         3864
        ],
        [
         "Geology",
         3745
        ],
        [
         "Geography",
         3555
        ],
        [
         "Art",
         3101
        ],
        [
         "Philosophy",
         2679
        ],
        [
         "Law",
         2201
        ],
        [
         "Linguistics",
         1386
        ],
        [
         "Agricultural And Food Sciences",
         67
        ]
       ],
       "datasetInfos": [],
       "dbfsResultPath": null,
       "isJsonSchema": true,
       "metadata": {},
       "overflow": false,
       "plotOptions": {
        "customPlotOptions": {},
        "displayType": "table",
        "pivotAggregation": null,
        "pivotColumns": null,
        "xColumns": null,
        "yColumns": null
       },
       "removedWidgets": [],
       "schema": [
        {
         "metadata": "{}",
         "name": "category",
         "type": "\"string\""
        },
        {
         "metadata": "{}",
         "name": "count",
         "type": "\"long\""
        }
       ],
       "type": "table"
      }
     },
     "output_type": "display_data"
    },
    {
     "output_type": "display_data",
     "data": {
      "text/plain": [
       "Databricks visualization. Run in Databricks to view."
      ]
     },
     "metadata": {
      "application/vnd.databricks.v1.subcommand+json": {
       "baseErrorDetails": null,
       "bindings": {},
       "collapsed": false,
       "command": "%python\n__backend_agg_display_orig = display\n__backend_agg_dfs = []\ndef __backend_agg_display_new(df):\n    __backend_agg_df_modules = [\"pandas.core.frame\", \"databricks.koalas.frame\", \"pyspark.sql.dataframe\", \"pyspark.pandas.frame\", \"pyspark.sql.connect.dataframe\"]\n    if (type(df).__module__ in __backend_agg_df_modules and type(df).__name__ == 'DataFrame') or isinstance(df, list):\n        __backend_agg_dfs.append(df)\n\ndisplay = __backend_agg_display_new\n\ndef __backend_agg_user_code_fn():\n    import base64\n    exec(base64.standard_b64decode(\"I3F1ZXN0aW9uIDEgZnVydGhlciBhbmFseXNpcwoKIyBFeHBsb2RpbmcgY29sdW1uCmNhdGVnb3J5X2RmID0gcHVibGljYXRpb25zX2RmLndpdGhDb2x1bW4oImNhdGVnb3J5IiwgZXhwbG9kZSgiczJmaWVsZHNvZnN0dWR5LmNhdGVnb3J5IikpCgojY291bnRpbmcgY2F0ZWdvcmllcwoKZmlsdGVyZWRfY2F0ZWdvcnkgPSBjYXRlZ29yeV9kZi5maWx0ZXIoY29sKCJjYXRlZ29yeSIpLmlzTm90TnVsbCgpKQpjYXRlZ29yeV9jb3VudHMgPSBmaWx0ZXJlZF9jYXRlZ29yeS5ncm91cEJ5KCJjYXRlZ29yeSIpLmNvdW50KCkub3JkZXJCeShjb2woImNvdW50IikuZGVzYygpKQoKIyBkaXNwbGF5aW5nIHJlc3VsdHMKY2F0ZWdvcnlfY291bnRzLmRpc3BsYXkoKQo=\").decode())\n\ntry:\n    # run user code\n    __backend_agg_user_code_fn()\n\n    #reset display function\n    display = __backend_agg_display_orig\n\n    if len(__backend_agg_dfs) > 0:\n        # create a temp view\n        if type(__backend_agg_dfs[0]).__module__ == \"databricks.koalas.frame\":\n            # koalas dataframe\n            __backend_agg_dfs[0].to_spark().createOrReplaceTempView(\"DatabricksViewf891652\")\n        elif type(__backend_agg_dfs[0]).__module__ == \"pandas.core.frame\" or isinstance(__backend_agg_dfs[0], list):\n            # pandas dataframe\n            spark.createDataFrame(__backend_agg_dfs[0]).createOrReplaceTempView(\"DatabricksViewf891652\")\n        else:\n            __backend_agg_dfs[0].createOrReplaceTempView(\"DatabricksViewf891652\")\n        #run backend agg\n        display(spark.sql(\"\"\"WITH q AS (select * from DatabricksViewf891652) SELECT `category`,SUM(`count`) `column_ce5457f58` FROM q GROUP BY `category`\"\"\"))\n    else:\n        displayHTML(\"dataframe no longer exists. If you're using dataframe.display(), use display(dataframe) instead.\")\n\n\nfinally:\n    spark.sql(\"drop view if exists DatabricksViewf891652\")\n    display = __backend_agg_display_orig\n    del __backend_agg_display_new\n    del __backend_agg_display_orig\n    del __backend_agg_dfs\n    del __backend_agg_user_code_fn\n\n",
       "commandTitle": "Visualization 1",
       "commandType": "auto",
       "commandVersion": 0,
       "commentThread": [],
       "commentsVisible": false,
       "contentSha256Hex": null,
       "customPlotOptions": {
        "redashChart": [
         {
          "key": "type",
          "value": "CHART"
         },
         {
          "key": "options",
          "value": {
           "alignYAxesAtZero": true,
           "coefficient": 1,
           "columnConfigurationMap": {
            "x": {
             "column": "category",
             "id": "column_ce5457f55"
            },
            "y": [
             {
              "column": "count",
              "id": "column_ce5457f58",
              "transform": "SUM"
             }
            ]
           },
           "dateTimeFormat": "DD/MM/YYYY HH:mm",
           "direction": {
            "type": "counterclockwise"
           },
           "error_y": {
            "type": "data",
            "visible": true
           },
           "globalSeriesType": "column",
           "isAggregationOn": true,
           "legend": {
            "traceorder": "normal"
           },
           "missingValuesAsZero": true,
           "numBins": 10,
           "numberFormat": "0,0.[00000]",
           "percentFormat": "0[.]00%",
           "series": {
            "error_y": {
             "type": "data",
             "visible": true
            },
            "stacking": null
           },
           "seriesOptions": {
            "column_ce5457f52": {
             "name": "count",
             "type": "column",
             "yAxis": 0
            },
            "column_ce5457f58": {
             "color": "#17BF51",
             "type": "column",
             "yAxis": 0
            }
           },
           "showDataLabels": false,
           "sizemode": "diameter",
           "sortX": false,
           "sortY": true,
           "swappedAxes": false,
           "textFormat": "",
           "useAggregationsUi": true,
           "valuesOptions": {},
           "version": 2,
           "xAxis": {
            "labels": {
             "enabled": true
            },
            "title": {
             "text": "Publication Category"
            },
            "type": "-"
           },
           "yAxis": [
            {
             "title": {
              "text": "Number of publications"
             },
             "type": "-"
            },
            {
             "opposite": true,
             "type": "-"
            }
           ]
          }
         }
        ]
       },
       "datasetPreviewNameToCmdIdMap": {},
       "diffDeletes": [],
       "diffInserts": [],
       "displayType": "redashChart",
       "error": null,
       "errorDetails": null,
       "errorSummary": null,
       "errorTraceType": null,
       "finishTime": 0,
       "globalVars": {},
       "guid": "",
       "height": "531",
       "hideCommandCode": false,
       "hideCommandResult": false,
       "iPythonMetadata": null,
       "inputWidgets": {},
       "isLockedInExamMode": false,
       "latestUser": "a user",
       "latestUserId": null,
       "listResultMetadata": null,
       "metadata": {},
       "nuid": "b87001c3-e24d-46d9-916b-0b8fca30b20b",
       "origId": 0,
       "parentHierarchy": [],
       "pivotAggregation": null,
       "pivotColumns": null,
       "position": 3.5,
       "resultDbfsErrorMessage": null,
       "resultDbfsStatus": "INLINED_IN_TREE",
       "results": null,
       "showCommandTitle": false,
       "startTime": 0,
       "state": "input",
       "streamStates": {},
       "subcommandOptions": {
        "queryPlan": {
         "groups": [
          {
           "column": "category",
           "type": "column"
          }
         ],
         "selects": [
          {
           "column": "category",
           "type": "column"
          },
          {
           "alias": "column_ce5457f58",
           "args": [
            {
             "column": "count",
             "type": "column"
            }
           ],
           "function": "SUM",
           "type": "function"
          }
         ]
        }
       },
       "submitTime": 0,
       "subtype": "tableResultSubCmd.visualization",
       "tableResultIndex": 0,
       "useConsistentColors": false,
       "version": "CommandV1",
       "width": "483",
       "workflows": [],
       "xColumns": null,
       "yColumns": null
      }
     },
     "output_type": "display_data"
    }
   ],
   "source": [
    "#question 1 further analysis\n",
    "\n",
    "# Exploding column\n",
    "category_df = publications_df.withColumn(\"category\", explode(\"s2fieldsofstudy.category\"))\n",
    "\n",
    "#counting categories\n",
    "filtered_category = category_df.filter(col(\"category\").isNotNull())\n",
    "category_counts = filtered_category.groupBy(\"category\").count().orderBy(col(\"count\").desc())\n",
    "\n",
    "# displaying results\n",
    "category_counts.display()\n"
   ]
  },
  {
   "cell_type": "code",
   "execution_count": 0,
   "metadata": {
    "application/vnd.databricks.v1+cell": {
     "cellMetadata": {
      "byteLimit": 2048000,
      "rowLimit": 10000
     },
     "inputWidgets": {},
     "nuid": "094d03e2-cfbb-454f-9bb1-0f0cfc0f73e0",
     "showTitle": false,
     "title": ""
    }
   },
   "outputs": [
    {
     "output_type": "stream",
     "name": "stdout",
     "output_type": "stream",
     "text": [
      "Average number of authors per paper: 2.81628\n"
     ]
    }
   ],
   "source": [
    "#question 2\n",
    "\n",
    "author_no = publications_df.withColumn(\"num_authors\", size(col(\"authors\")))\n",
    "avg_authors = author_no.agg({\"num_authors\": \"avg\"}).collect()[0][0]\n",
    "print(\"Average number of authors per paper:\", avg_authors)\n"
   ]
  },
  {
   "cell_type": "code",
   "execution_count": 0,
   "metadata": {
    "application/vnd.databricks.v1+cell": {
     "cellMetadata": {
      "byteLimit": 2048000,
      "rowLimit": 10000
     },
     "inputWidgets": {},
     "nuid": "0209b577-e633-4970-a10c-659875bdfffe",
     "showTitle": false,
     "title": ""
    }
   },
   "outputs": [
    {
     "output_type": "stream",
     "name": "stdout",
     "output_type": "stream",
     "text": [
      "Average number of authors per paper: 2.8947072689398095\n"
     ]
    }
   ],
   "source": [
    "#question 2 further analysis - filtering out papers with no authors\n",
    "\n",
    "author_no = publications_df.withColumn(\"num_authors\", size(col(\"authors\"))).filter(size(\"authors\") > 0)\n",
    "avg_authors = author_no.agg({\"num_authors\": \"avg\"}).collect()[0][0]\n",
    "print(\"Average number of authors per paper:\", avg_authors)\n"
   ]
  },
  {
   "cell_type": "code",
   "execution_count": 0,
   "metadata": {
    "application/vnd.databricks.v1+cell": {
     "cellMetadata": {
      "byteLimit": 2048000,
      "rowLimit": 10000
     },
     "inputWidgets": {},
     "nuid": "aee7f1da-0b92-4f6d-8f7e-c45dd9e1ac08",
     "showTitle": false,
     "title": ""
    }
   },
   "outputs": [
    {
     "output_type": "stream",
     "name": "stdout",
     "output_type": "stream",
     "text": [
      "Number of distinct journals: 33916\n"
     ]
    }
   ],
   "source": [
    "#question 3\n",
    "\n",
    "filtered_df = publications_df.filter(col(\"journal.name\").isNotNull()).filter(col(\"journal.name\") != '') #filtering empty values and null\n",
    "\n",
    "journal_count = filtered_df.select(\"journal.name\").distinct().count()\n",
    "\n",
    "print(\"Number of distinct journals:\", journal_count)"
   ]
  },
  {
   "cell_type": "code",
   "execution_count": 0,
   "metadata": {
    "application/vnd.databricks.v1+cell": {
     "cellMetadata": {
      "byteLimit": 2048000,
      "rowLimit": 10000
     },
     "inputWidgets": {},
     "nuid": "3351f81c-3231-40bc-9166-86b8fff3ec20",
     "showTitle": false,
     "title": ""
    }
   },
   "outputs": [
    {
     "output_type": "display_data",
     "data": {
      "text/html": [
       "<style scoped>\n",
       "  .table-result-container {\n",
       "    max-height: 300px;\n",
       "    overflow: auto;\n",
       "  }\n",
       "  table, th, td {\n",
       "    border: 1px solid black;\n",
       "    border-collapse: collapse;\n",
       "  }\n",
       "  th, td {\n",
       "    padding: 5px;\n",
       "  }\n",
       "  th {\n",
       "    text-align: left;\n",
       "  }\n",
       "</style><div class='table-result-container'><table class='table-result'><thead style='background-color: white'><tr><th>name</th><th>count</th></tr></thead><tbody><tr><td>ChemInform</td><td>386</td></tr><tr><td>Nature</td><td>302</td></tr><tr><td>ArXiv</td><td>242</td></tr><tr><td>Science</td><td>217</td></tr><tr><td>British Medical Journal</td><td>208</td></tr><tr><td>PLoS ONE</td><td>178</td></tr><tr><td>The Lancet</td><td>150</td></tr><tr><td>Reactions Weekly</td><td>148</td></tr><tr><td>Scientific Reports</td><td>146</td></tr><tr><td>SSRN Electronic Journal</td><td>137</td></tr></tbody></table></div>"
      ]
     },
     "metadata": {
      "application/vnd.databricks.v1+output": {
       "addedWidgets": {},
       "aggData": [],
       "aggError": "",
       "aggOverflow": false,
       "aggSchema": [],
       "aggSeriesLimitReached": false,
       "aggType": "",
       "arguments": {},
       "columnCustomDisplayInfos": {},
       "data": [
        [
         "ChemInform",
         386
        ],
        [
         "Nature",
         302
        ],
        [
         "ArXiv",
         242
        ],
        [
         "Science",
         217
        ],
        [
         "British Medical Journal",
         208
        ],
        [
         "PLoS ONE",
         178
        ],
        [
         "The Lancet",
         150
        ],
        [
         "Reactions Weekly",
         148
        ],
        [
         "Scientific Reports",
         146
        ],
        [
         "SSRN Electronic Journal",
         137
        ]
       ],
       "datasetInfos": [],
       "dbfsResultPath": null,
       "isJsonSchema": true,
       "metadata": {},
       "overflow": false,
       "plotOptions": {
        "customPlotOptions": {},
        "displayType": "table",
        "pivotAggregation": null,
        "pivotColumns": null,
        "xColumns": null,
        "yColumns": null
       },
       "removedWidgets": [],
       "schema": [
        {
         "metadata": "{}",
         "name": "name",
         "type": "\"string\""
        },
        {
         "metadata": "{}",
         "name": "count",
         "type": "\"long\""
        }
       ],
       "type": "table"
      }
     },
     "output_type": "display_data"
    },
    {
     "output_type": "display_data",
     "data": {
      "text/plain": [
       "Databricks visualization. Run in Databricks to view."
      ]
     },
     "metadata": {
      "application/vnd.databricks.v1.subcommand+json": {
       "baseErrorDetails": null,
       "bindings": {},
       "collapsed": false,
       "command": "%python\n__backend_agg_display_orig = display\n__backend_agg_dfs = []\ndef __backend_agg_display_new(df):\n    __backend_agg_df_modules = [\"pandas.core.frame\", \"databricks.koalas.frame\", \"pyspark.sql.dataframe\", \"pyspark.pandas.frame\", \"pyspark.sql.connect.dataframe\"]\n    if (type(df).__module__ in __backend_agg_df_modules and type(df).__name__ == 'DataFrame') or isinstance(df, list):\n        __backend_agg_dfs.append(df)\n\ndisplay = __backend_agg_display_new\n\ndef __backend_agg_user_code_fn():\n    import base64\n    exec(base64.standard_b64decode(\"I3F1ZXN0aW9uIDMgZnVydGhlciBhbmFseXNpcyAtIGNvdW50IG9mIHB1YmxpY2F0aW9ucyBwZXIgam91cm5hbAoKZmlsdGVyZWRfZGYgPSBwdWJsaWNhdGlvbnNfZGYuZmlsdGVyKGNvbCgiam91cm5hbC5uYW1lIikuaXNOb3ROdWxsKCkpLmZpbHRlcihjb2woImpvdXJuYWwubmFtZSIpICE9ICcnKSAjZmlsdGVyaW5nIGVtcHR5IHZhbHVlcyBhbmQgbnVsbAoKam91cm5hbF9wdWJfY291bnQgPSBmaWx0ZXJlZF9kZi5ncm91cEJ5KCJqb3VybmFsLm5hbWUiKS5jb3VudCgpLm9yZGVyQnkoY29sKCJjb3VudCIpLmRlc2MoKSkubGltaXQoMTApCgpqb3VybmFsX3B1Yl9jb3VudC5kaXNwbGF5KCkK\").decode())\n\ntry:\n    # run user code\n    __backend_agg_user_code_fn()\n\n    #reset display function\n    display = __backend_agg_display_orig\n\n    if len(__backend_agg_dfs) > 0:\n        # create a temp view\n        if type(__backend_agg_dfs[0]).__module__ == \"databricks.koalas.frame\":\n            # koalas dataframe\n            __backend_agg_dfs[0].to_spark().createOrReplaceTempView(\"DatabricksViewe7d6675\")\n        elif type(__backend_agg_dfs[0]).__module__ == \"pandas.core.frame\" or isinstance(__backend_agg_dfs[0], list):\n            # pandas dataframe\n            spark.createDataFrame(__backend_agg_dfs[0]).createOrReplaceTempView(\"DatabricksViewe7d6675\")\n        else:\n            __backend_agg_dfs[0].createOrReplaceTempView(\"DatabricksViewe7d6675\")\n        #run backend agg\n        display(spark.sql(\"\"\"WITH q AS (select * from DatabricksViewe7d6675) SELECT `name`,SUM(`count`) `column_ce5457f514` FROM q GROUP BY `name`\"\"\"))\n    else:\n        displayHTML(\"dataframe no longer exists. If you're using dataframe.display(), use display(dataframe) instead.\")\n\n\nfinally:\n    spark.sql(\"drop view if exists DatabricksViewe7d6675\")\n    display = __backend_agg_display_orig\n    del __backend_agg_display_new\n    del __backend_agg_display_orig\n    del __backend_agg_dfs\n    del __backend_agg_user_code_fn\n\n",
       "commandTitle": "Visualization 1",
       "commandType": "auto",
       "commandVersion": 0,
       "commentThread": [],
       "commentsVisible": false,
       "contentSha256Hex": null,
       "customPlotOptions": {
        "redashChart": [
         {
          "key": "type",
          "value": "CHART"
         },
         {
          "key": "options",
          "value": {
           "alignYAxesAtZero": true,
           "coefficient": 1,
           "columnConfigurationMap": {
            "x": {
             "column": "name",
             "id": "column_ce5457f513"
            },
            "y": [
             {
              "column": "count",
              "id": "column_ce5457f514",
              "transform": "SUM"
             }
            ]
           },
           "dateTimeFormat": "DD/MM/YYYY HH:mm",
           "direction": {
            "type": "counterclockwise"
           },
           "error_y": {
            "type": "data",
            "visible": true
           },
           "globalSeriesType": "column",
           "isAggregationOn": true,
           "legend": {
            "traceorder": "normal"
           },
           "missingValuesAsZero": true,
           "numberFormat": "0,0.[00000]",
           "percentFormat": "0[.]00%",
           "series": {
            "error_y": {
             "type": "data",
             "visible": true
            },
            "stacking": null
           },
           "seriesOptions": {
            "column_ce5457f514": {
             "color": "#FB8D3D",
             "name": "count",
             "yAxis": 0
            }
           },
           "showDataLabels": true,
           "sizemode": "diameter",
           "sortX": false,
           "sortY": true,
           "swappedAxes": false,
           "textFormat": "",
           "useAggregationsUi": true,
           "valuesOptions": {},
           "version": 2,
           "xAxis": {
            "labels": {
             "enabled": true
            },
            "title": {
             "text": "Academic Journal Name"
            },
            "type": "-"
           },
           "yAxis": [
            {
             "title": {
              "text": "Number of publications"
             },
             "type": "-"
            },
            {
             "opposite": true,
             "type": "-"
            }
           ]
          }
         }
        ]
       },
       "datasetPreviewNameToCmdIdMap": {},
       "diffDeletes": [],
       "diffInserts": [],
       "displayType": "redashChart",
       "error": null,
       "errorDetails": null,
       "errorSummary": null,
       "errorTraceType": null,
       "finishTime": 0,
       "globalVars": {},
       "guid": "",
       "height": "462",
       "hideCommandCode": false,
       "hideCommandResult": false,
       "iPythonMetadata": null,
       "inputWidgets": {},
       "isLockedInExamMode": false,
       "latestUser": "a user",
       "latestUserId": null,
       "listResultMetadata": null,
       "metadata": {},
       "nuid": "83f2945a-da2d-4142-8c0b-a15176823f87",
       "origId": 0,
       "parentHierarchy": [],
       "pivotAggregation": null,
       "pivotColumns": null,
       "position": 5.5,
       "resultDbfsErrorMessage": null,
       "resultDbfsStatus": "INLINED_IN_TREE",
       "results": null,
       "showCommandTitle": false,
       "startTime": 0,
       "state": "input",
       "streamStates": {},
       "subcommandOptions": {
        "queryPlan": {
         "groups": [
          {
           "column": "name",
           "type": "column"
          }
         ],
         "selects": [
          {
           "column": "name",
           "type": "column"
          },
          {
           "alias": "column_ce5457f514",
           "args": [
            {
             "column": "count",
             "type": "column"
            }
           ],
           "function": "SUM",
           "type": "function"
          }
         ]
        }
       },
       "submitTime": 0,
       "subtype": "tableResultSubCmd.visualization",
       "tableResultIndex": 0,
       "useConsistentColors": false,
       "version": "CommandV1",
       "width": "494",
       "workflows": [],
       "xColumns": null,
       "yColumns": null
      }
     },
     "output_type": "display_data"
    }
   ],
   "source": [
    "#question 3 further analysis - count of publications per journal\n",
    "\n",
    "Q3_further_analysis = publications_df.filter(col(\"journal.name\").isNotNull()).filter(col(\"journal.name\") != '') #filtering empty values and null\n",
    "\n",
    "#grouping the data by journal name and counting publications in each journal, then sorting data and limiting the result to only top 10 highest\n",
    "journal_pub_count = Q3_further_analysis.groupBy(\"journal.name\").count().orderBy(col(\"count\").desc()).limit(10)\n",
    "journal_pub_count.display()\n"
   ]
  },
  {
   "cell_type": "code",
   "execution_count": 0,
   "metadata": {
    "application/vnd.databricks.v1+cell": {
     "cellMetadata": {
      "byteLimit": 2048000,
      "rowLimit": 10000
     },
     "inputWidgets": {},
     "nuid": "8e5fb54e-323a-452f-b115-ed06f2bce21f",
     "showTitle": false,
     "title": ""
    }
   },
   "outputs": [
    {
     "output_type": "display_data",
     "data": {
      "text/html": [
       "<style scoped>\n",
       "  .table-result-container {\n",
       "    max-height: 300px;\n",
       "    overflow: auto;\n",
       "  }\n",
       "  table, th, td {\n",
       "    border: 1px solid black;\n",
       "    border-collapse: collapse;\n",
       "  }\n",
       "  th, td {\n",
       "    padding: 5px;\n",
       "  }\n",
       "  th {\n",
       "    text-align: left;\n",
       "  }\n",
       "</style><div class='table-result-container'><table class='table-result'><thead style='background-color: white'><tr><th>authors</th><th>count</th></tr></thead><tbody><tr><td>List(2149377746, B. Noble)</td><td>23</td></tr><tr><td>List(90537224, S. Sukhoruchkin)</td><td>16</td></tr><tr><td>List(88842366, Z. Soroko)</td><td>16</td></tr><tr><td>List(49898687, M. Kumar)</td><td>15</td></tr><tr><td>List(49611617, M. Jain)</td><td>10</td></tr></tbody></table></div>"
      ]
     },
     "metadata": {
      "application/vnd.databricks.v1+output": {
       "addedWidgets": {},
       "aggData": [],
       "aggError": "",
       "aggOverflow": false,
       "aggSchema": [],
       "aggSeriesLimitReached": false,
       "aggType": "",
       "arguments": {},
       "columnCustomDisplayInfos": {},
       "data": [
        [
         [
          "2149377746",
          "B. Noble"
         ],
         23
        ],
        [
         [
          "90537224",
          "S. Sukhoruchkin"
         ],
         16
        ],
        [
         [
          "88842366",
          "Z. Soroko"
         ],
         16
        ],
        [
         [
          "49898687",
          "M. Kumar"
         ],
         15
        ],
        [
         [
          "49611617",
          "M. Jain"
         ],
         10
        ]
       ],
       "datasetInfos": [],
       "dbfsResultPath": null,
       "isJsonSchema": true,
       "metadata": {},
       "overflow": false,
       "plotOptions": {
        "customPlotOptions": {},
        "displayType": "table",
        "pivotAggregation": null,
        "pivotColumns": null,
        "xColumns": null,
        "yColumns": null
       },
       "removedWidgets": [],
       "schema": [
        {
         "metadata": "{}",
         "name": "authors",
         "type": "{\"type\":\"struct\",\"fields\":[{\"name\":\"authorId\",\"type\":\"string\",\"nullable\":true,\"metadata\":{}},{\"name\":\"name\",\"type\":\"string\",\"nullable\":true,\"metadata\":{}}]}"
        },
        {
         "metadata": "{}",
         "name": "count",
         "type": "\"long\""
        }
       ],
       "type": "table"
      }
     },
     "output_type": "display_data"
    },
    {
     "output_type": "display_data",
     "data": {
      "text/plain": [
       "Databricks visualization. Run in Databricks to view."
      ]
     },
     "metadata": {
      "application/vnd.databricks.v1.subcommand+json": {
       "baseErrorDetails": null,
       "bindings": {},
       "collapsed": false,
       "command": "%python\n__backend_agg_display_orig = display\n__backend_agg_dfs = []\ndef __backend_agg_display_new(df):\n    __backend_agg_df_modules = [\"pandas.core.frame\", \"databricks.koalas.frame\", \"pyspark.sql.dataframe\", \"pyspark.pandas.frame\", \"pyspark.sql.connect.dataframe\"]\n    if (type(df).__module__ in __backend_agg_df_modules and type(df).__name__ == 'DataFrame') or isinstance(df, list):\n        __backend_agg_dfs.append(df)\n\ndisplay = __backend_agg_display_new\n\ndef __backend_agg_user_code_fn():\n    import base64\n    exec(base64.standard_b64decode(\"I3F1ZXN0aW9uIDQKCmRmX2V4cGxvZGVkID0gcHVibGljYXRpb25zX2RmLnNlbGVjdChleHBsb2RlKCJhdXRob3JzIikuYWxpYXMoImF1dGhvciIpKQphdXRob3JzX3B1YmxpY2F0aW9ucyA9IGRmX2V4cGxvZGVkLmdyb3VwQnkoImF1dGhvciIpLmNvdW50KCkKCnRvcF9hdXRob3JzID0gYXV0aG9yc19wdWJsaWNhdGlvbnMub3JkZXJCeShjb2woImNvdW50IikuZGVzYygpKS5saW1pdCg1KQoKdG9wX2F1dGhvcnMuZGlzcGxheSgp\").decode())\n\ntry:\n    # run user code\n    __backend_agg_user_code_fn()\n\n    #reset display function\n    display = __backend_agg_display_orig\n\n    if len(__backend_agg_dfs) > 0:\n        # create a temp view\n        if type(__backend_agg_dfs[0]).__module__ == \"databricks.koalas.frame\":\n            # koalas dataframe\n            __backend_agg_dfs[0].to_spark().createOrReplaceTempView(\"DatabricksViewf603c18\")\n        elif type(__backend_agg_dfs[0]).__module__ == \"pandas.core.frame\" or isinstance(__backend_agg_dfs[0], list):\n            # pandas dataframe\n            spark.createDataFrame(__backend_agg_dfs[0]).createOrReplaceTempView(\"DatabricksViewf603c18\")\n        else:\n            __backend_agg_dfs[0].createOrReplaceTempView(\"DatabricksViewf603c18\")\n        #run backend agg\n        display(spark.sql(\"\"\"WITH q AS (select * from DatabricksViewf603c18) SELECT `author`,SUM(`count`) `column_3dbb15ad2` FROM q GROUP BY `author`\"\"\"))\n    else:\n        displayHTML(\"dataframe no longer exists. If you're using dataframe.display(), use display(dataframe) instead.\")\n\n\nfinally:\n    spark.sql(\"drop view if exists DatabricksViewf603c18\")\n    display = __backend_agg_display_orig\n    del __backend_agg_display_new\n    del __backend_agg_display_orig\n    del __backend_agg_dfs\n    del __backend_agg_user_code_fn\n\n",
       "commandTitle": "Visualization 1",
       "commandType": "auto",
       "commandVersion": 0,
       "commentThread": [],
       "commentsVisible": false,
       "contentSha256Hex": null,
       "customPlotOptions": {
        "redashChart": [
         {
          "key": "type",
          "value": "CHART"
         },
         {
          "key": "options",
          "value": {
           "alignYAxesAtZero": true,
           "coefficient": 1,
           "columnConfigurationMap": {
            "x": {
             "column": "authors",
             "id": "column_ce5457f518"
            },
            "y": [
             {
              "column": "count",
              "id": "column_3dbb15ad2",
              "transform": "SUM"
             }
            ]
           },
           "dateTimeFormat": "DD/MM/YYYY HH:mm",
           "direction": {
            "type": "counterclockwise"
           },
           "error_y": {
            "type": "data",
            "visible": true
           },
           "globalSeriesType": "column",
           "isAggregationOn": true,
           "legend": {
            "traceorder": "normal"
           },
           "missingValuesAsZero": true,
           "numberFormat": "0,0.[00000]",
           "percentFormat": "0[.]00%",
           "series": {
            "error_y": {
             "type": "data",
             "visible": true
            },
            "stacking": null
           },
           "seriesOptions": {
            "column_3dbb15ad2": {
             "name": "count",
             "yAxis": 0
            }
           },
           "showDataLabels": true,
           "sizemode": "diameter",
           "sortX": false,
           "sortY": true,
           "swappedAxes": false,
           "textFormat": "",
           "useAggregationsUi": true,
           "valuesOptions": {},
           "version": 2,
           "xAxis": {
            "labels": {
             "enabled": true
            },
            "type": "-"
           },
           "yAxis": [
            {
             "type": "-"
            },
            {
             "opposite": true,
             "type": "-"
            }
           ]
          }
         }
        ]
       },
       "datasetPreviewNameToCmdIdMap": {},
       "diffDeletes": [],
       "diffInserts": [],
       "displayType": "redashChart",
       "error": null,
       "errorDetails": null,
       "errorSummary": null,
       "errorTraceType": null,
       "finishTime": 0,
       "globalVars": {},
       "guid": "",
       "height": "345",
       "hideCommandCode": false,
       "hideCommandResult": false,
       "iPythonMetadata": null,
       "inputWidgets": {},
       "isLockedInExamMode": false,
       "latestUser": "a user",
       "latestUserId": null,
       "listResultMetadata": null,
       "metadata": {
        "byteLimit": 2048000,
        "rowLimit": 10000
       },
       "nuid": "57f60386-315b-44e8-a8f9-5d295639fc25",
       "origId": 0,
       "parentHierarchy": [],
       "pivotAggregation": null,
       "pivotColumns": null,
       "position": 6.0,
       "resultDbfsErrorMessage": null,
       "resultDbfsStatus": "INLINED_IN_TREE",
       "results": null,
       "showCommandTitle": false,
       "startTime": 0,
       "state": "input",
       "streamStates": {},
       "subcommandOptions": {
        "queryPlan": {
         "groups": [
          {
           "column": "authors",
           "type": "column"
          }
         ],
         "selects": [
          {
           "column": "authors",
           "type": "column"
          },
          {
           "alias": "column_3dbb15ad2",
           "args": [
            {
             "column": "count",
             "type": "column"
            }
           ],
           "function": "SUM",
           "type": "function"
          }
         ]
        }
       },
       "submitTime": 0,
       "subtype": "tableResultSubCmd.visualization",
       "tableResultIndex": 0,
       "useConsistentColors": false,
       "version": "CommandV1",
       "width": "356",
       "workflows": [],
       "xColumns": null,
       "yColumns": null
      }
     },
     "output_type": "display_data"
    }
   ],
   "source": [
    "#question 4\n",
    "\n",
    "df_exploded = publications_df.select(explode(\"authors\").alias(\"authors\"))\n",
    "authors_publications = df_exploded.groupBy(\"authors\").count()\n",
    "\n",
    "top_authors = authors_publications.orderBy(col(\"count\").desc()).limit(5)\n",
    "\n",
    "top_authors.display()"
   ]
  },
  {
   "cell_type": "code",
   "execution_count": 0,
   "metadata": {
    "application/vnd.databricks.v1+cell": {
     "cellMetadata": {
      "byteLimit": 2048000,
      "rowLimit": 10000
     },
     "inputWidgets": {},
     "nuid": "9f717217-10be-4c06-b3ff-b1996c2da49c",
     "showTitle": false,
     "title": ""
    }
   },
   "outputs": [
    {
     "output_type": "stream",
     "name": "stdout",
     "output_type": "stream",
     "text": [
      "Number of columns in journal.name column: 33918\nNumber of columns in venue column: 21267\n"
     ]
    }
   ],
   "source": [
    "#Question 5 - comparing 2 columns with journal names to see which one contains more data\n",
    "#this was done to decide which column is better to use when joining datasets\n",
    "\n",
    "\n",
    "journal_name_count = publications_df.select(col(\"journal.name\")).distinct().count()\n",
    "venue_count = publications_df.select(col(\"venue\")).distinct().count()\n",
    "\n",
    "print(\"Number of columns in journal.name column:\", journal_name_count)\n",
    "print(\"Number of columns in venue column:\", venue_count)"
   ]
  },
  {
   "cell_type": "code",
   "execution_count": 0,
   "metadata": {
    "application/vnd.databricks.v1+cell": {
     "cellMetadata": {
      "byteLimit": 2048000,
      "rowLimit": 10000
     },
     "inputWidgets": {},
     "nuid": "03e40e80-acdc-45ef-9505-8b516c842bc0",
     "showTitle": false,
     "title": ""
    }
   },
   "outputs": [
    {
     "output_type": "display_data",
     "data": {
      "text/html": [
       "<style scoped>\n",
       "  .table-result-container {\n",
       "    max-height: 300px;\n",
       "    overflow: auto;\n",
       "  }\n",
       "  table, th, td {\n",
       "    border: 1px solid black;\n",
       "    border-collapse: collapse;\n",
       "  }\n",
       "  th, td {\n",
       "    padding: 5px;\n",
       "  }\n",
       "  th {\n",
       "    text-align: left;\n",
       "  }\n",
       "</style><div class='table-result-container'><table class='table-result'><thead style='background-color: white'><tr><th>author</th><th>cumulative_impact_factor</th></tr></thead><tbody><tr><td>List(2155504929, Ying Li)</td><td>93.832</td></tr><tr><td>List(144797099, M. Viana)</td><td>92.238</td></tr><tr><td>List(5152451, L. Andrade)</td><td>92.238</td></tr><tr><td>List(49900836, H. Wood)</td><td>90.422</td></tr><tr><td>List(7695437, A. M. Ruscio)</td><td>87.899</td></tr></tbody></table></div>"
      ]
     },
     "metadata": {
      "application/vnd.databricks.v1+output": {
       "addedWidgets": {},
       "aggData": [],
       "aggError": "",
       "aggOverflow": false,
       "aggSchema": [],
       "aggSeriesLimitReached": false,
       "aggType": "",
       "arguments": {},
       "columnCustomDisplayInfos": {},
       "data": [
        [
         [
          "2155504929",
          "Ying Li"
         ],
         93.832
        ],
        [
         [
          "144797099",
          "M. Viana"
         ],
         92.238
        ],
        [
         [
          "5152451",
          "L. Andrade"
         ],
         92.238
        ],
        [
         [
          "49900836",
          "H. Wood"
         ],
         90.422
        ],
        [
         [
          "7695437",
          "A. M. Ruscio"
         ],
         87.899
        ]
       ],
       "datasetInfos": [],
       "dbfsResultPath": null,
       "isJsonSchema": true,
       "metadata": {},
       "overflow": false,
       "plotOptions": {
        "customPlotOptions": {},
        "displayType": "table",
        "pivotAggregation": null,
        "pivotColumns": null,
        "xColumns": null,
        "yColumns": null
       },
       "removedWidgets": [],
       "schema": [
        {
         "metadata": "{}",
         "name": "author",
         "type": "{\"type\":\"struct\",\"fields\":[{\"name\":\"authorId\",\"type\":\"string\",\"nullable\":true,\"metadata\":{}},{\"name\":\"name\",\"type\":\"string\",\"nullable\":true,\"metadata\":{}}]}"
        },
        {
         "metadata": "{}",
         "name": "cumulative_impact_factor",
         "type": "\"double\""
        }
       ],
       "type": "table"
      }
     },
     "output_type": "display_data"
    },
    {
     "output_type": "display_data",
     "data": {
      "text/plain": [
       "Databricks visualization. Run in Databricks to view."
      ]
     },
     "metadata": {
      "application/vnd.databricks.v1.subcommand+json": {
       "baseErrorDetails": null,
       "bindings": {},
       "collapsed": false,
       "command": "%python\n__backend_agg_display_orig = display\n__backend_agg_dfs = []\ndef __backend_agg_display_new(df):\n    __backend_agg_df_modules = [\"pandas.core.frame\", \"databricks.koalas.frame\", \"pyspark.sql.dataframe\", \"pyspark.pandas.frame\", \"pyspark.sql.connect.dataframe\"]\n    if (type(df).__module__ in __backend_agg_df_modules and type(df).__name__ == 'DataFrame') or isinstance(df, list):\n        __backend_agg_dfs.append(df)\n\ndisplay = __backend_agg_display_new\n\ndef __backend_agg_user_code_fn():\n    import base64\n    exec(base64.standard_b64decode(\"I3F1ZXN0aW9uIDUKCgpzZWxlY3RlZF9jb2x1bW5zID0gcHVibGljYXRpb25zX2RmLnNlbGVjdChjb2woImpvdXJuYWwubmFtZSIpLmFsaWFzKCJuYW1lIiksICJhdXRob3JzIikKCmpvaW5lZF9kZiA9IHNlbGVjdGVkX2NvbHVtbnMuam9pbihqb3VybmFsX2luZm8sIHNlbGVjdGVkX2NvbHVtbnMubmFtZSA9PSBqb3VybmFsX2luZm8uam91cm5hbF9uYW1lKQoKYXV0aG9yc19kZiA9IGpvaW5lZF9kZi5zZWxlY3QoZXhwbG9kZSgiYXV0aG9ycyIpLmFsaWFzKCJhdXRob3IiKSwgIklGIikKCmF1dGhvcl9pZiA9IGF1dGhvcnNfZGYuZ3JvdXBCeSgiYXV0aG9yIikuYWdnKHsiSUYiOiAic3VtIn0pLndpdGhDb2x1bW5SZW5hbWVkKCJzdW0oSUYpIiwgImN1bXVsYXRpdmVfaW1wYWN0X2ZhY3RvciIpCgp0b3BfYXV0aG9ycyA9IGF1dGhvcl9pZi5vcmRlckJ5KGNvbCgiY3VtdWxhdGl2ZV9pbXBhY3RfZmFjdG9yIikuZGVzYygpKS5saW1pdCg1KQoKdG9wX2F1dGhvcnMuZGlzcGxheSgp\").decode())\n\ntry:\n    # run user code\n    __backend_agg_user_code_fn()\n\n    #reset display function\n    display = __backend_agg_display_orig\n\n    if len(__backend_agg_dfs) > 0:\n        # create a temp view\n        if type(__backend_agg_dfs[0]).__module__ == \"databricks.koalas.frame\":\n            # koalas dataframe\n            __backend_agg_dfs[0].to_spark().createOrReplaceTempView(\"DatabricksView2905332\")\n        elif type(__backend_agg_dfs[0]).__module__ == \"pandas.core.frame\" or isinstance(__backend_agg_dfs[0], list):\n            # pandas dataframe\n            spark.createDataFrame(__backend_agg_dfs[0]).createOrReplaceTempView(\"DatabricksView2905332\")\n        else:\n            __backend_agg_dfs[0].createOrReplaceTempView(\"DatabricksView2905332\")\n        #run backend agg\n        display(spark.sql(\"\"\"WITH q AS (select * from DatabricksView2905332) SELECT `author`,SUM(`cumulative_impact_factor`) `column_898fb0342` FROM q GROUP BY `author`\"\"\"))\n    else:\n        displayHTML(\"dataframe no longer exists. If you're using dataframe.display(), use display(dataframe) instead.\")\n\n\nfinally:\n    spark.sql(\"drop view if exists DatabricksView2905332\")\n    display = __backend_agg_display_orig\n    del __backend_agg_display_new\n    del __backend_agg_display_orig\n    del __backend_agg_dfs\n    del __backend_agg_user_code_fn\n\n",
       "commandTitle": "Visualization 1",
       "commandType": "auto",
       "commandVersion": 0,
       "commentThread": [],
       "commentsVisible": false,
       "contentSha256Hex": null,
       "customPlotOptions": {
        "redashChart": [
         {
          "key": "type",
          "value": "CHART"
         },
         {
          "key": "options",
          "value": {
           "alignYAxesAtZero": true,
           "coefficient": 1,
           "columnConfigurationMap": {
            "x": {
             "column": "author",
             "id": "column_898fb0341"
            },
            "y": [
             {
              "column": "cumulative_impact_factor",
              "id": "column_898fb0342",
              "transform": "SUM"
             }
            ]
           },
           "dateTimeFormat": "DD/MM/YYYY HH:mm",
           "direction": {
            "type": "counterclockwise"
           },
           "error_y": {
            "type": "data",
            "visible": true
           },
           "globalSeriesType": "column",
           "isAggregationOn": true,
           "legend": {
            "traceorder": "normal"
           },
           "missingValuesAsZero": true,
           "numberFormat": "0,0.[00000]",
           "percentFormat": "0[.]00%",
           "series": {
            "error_y": {
             "type": "data",
             "visible": true
            },
            "percentValues": false,
            "stacking": null
           },
           "seriesOptions": {
            "column_898fb0342": {
             "name": "cumulative_impact_factor",
             "yAxis": 0
            }
           },
           "showDataLabels": true,
           "sizemode": "diameter",
           "sortX": false,
           "sortY": true,
           "swappedAxes": false,
           "textFormat": "",
           "useAggregationsUi": true,
           "valuesOptions": {},
           "version": 2,
           "xAxis": {
            "labels": {
             "enabled": true
            },
            "title": {
             "text": "Authors"
            },
            "type": "-"
           },
           "yAxis": [
            {
             "title": {
              "text": "Cumulative IF"
             },
             "type": "-"
            },
            {
             "opposite": true,
             "type": "-"
            }
           ]
          }
         }
        ]
       },
       "datasetPreviewNameToCmdIdMap": {},
       "diffDeletes": [],
       "diffInserts": [],
       "displayType": "redashChart",
       "error": null,
       "errorDetails": null,
       "errorSummary": null,
       "errorTraceType": null,
       "finishTime": 0,
       "globalVars": {},
       "guid": "",
       "height": "342",
       "hideCommandCode": false,
       "hideCommandResult": false,
       "iPythonMetadata": null,
       "inputWidgets": {},
       "isLockedInExamMode": false,
       "latestUser": "a user",
       "latestUserId": null,
       "listResultMetadata": null,
       "metadata": {
        "byteLimit": 2048000,
        "rowLimit": 10000
       },
       "nuid": "8eedbf2e-18a2-4dc4-a2b8-0e6c73067189",
       "origId": 0,
       "parentHierarchy": [],
       "pivotAggregation": null,
       "pivotColumns": null,
       "position": 7.0,
       "resultDbfsErrorMessage": null,
       "resultDbfsStatus": "INLINED_IN_TREE",
       "results": null,
       "showCommandTitle": false,
       "startTime": 0,
       "state": "input",
       "streamStates": {},
       "subcommandOptions": {
        "queryPlan": {
         "groups": [
          {
           "column": "author",
           "type": "column"
          }
         ],
         "selects": [
          {
           "column": "author",
           "type": "column"
          },
          {
           "alias": "column_898fb0342",
           "args": [
            {
             "column": "cumulative_impact_factor",
             "type": "column"
            }
           ],
           "function": "SUM",
           "type": "function"
          }
         ]
        }
       },
       "submitTime": 0,
       "subtype": "tableResultSubCmd.visualization",
       "tableResultIndex": 0,
       "useConsistentColors": false,
       "version": "CommandV1",
       "width": "342",
       "workflows": [],
       "xColumns": null,
       "yColumns": null
      }
     },
     "output_type": "display_data"
    }
   ],
   "source": [
    "#question 5\n",
    "\n",
    "\n",
    "selected_columns = publications_df.select(col(\"journal.name\").alias(\"name\"), \"authors\")\n",
    "joined_df = selected_columns.join(journal_info, selected_columns.name == journal_info.journal_name)\n",
    "authors_df = joined_df.select(explode(\"authors\").alias(\"author\"), \"IF\")\n",
    "\n",
    "author_if = authors_df.groupBy(\"author\").agg({\"IF\": \"sum\"}).withColumnRenamed(\"sum(IF)\", \"cumulative_impact_factor\")\n",
    "author_if = author_if.orderBy(col(\"cumulative_impact_factor\").desc()).limit(5)\n",
    "author_if.display()"
   ]
  },
  {
   "cell_type": "code",
   "execution_count": 0,
   "metadata": {
    "application/vnd.databricks.v1+cell": {
     "cellMetadata": {
      "byteLimit": 2048000,
      "rowLimit": 10000
     },
     "inputWidgets": {},
     "nuid": "47834707-3e61-4546-9e5d-ecbd448fc10a",
     "showTitle": false,
     "title": ""
    }
   },
   "outputs": [
    {
     "output_type": "display_data",
     "data": {
      "text/html": [
       "<style scoped>\n",
       "  .table-result-container {\n",
       "    max-height: 300px;\n",
       "    overflow: auto;\n",
       "  }\n",
       "  table, th, td {\n",
       "    border: 1px solid black;\n",
       "    border-collapse: collapse;\n",
       "  }\n",
       "  th, td {\n",
       "    padding: 5px;\n",
       "  }\n",
       "  th {\n",
       "    text-align: left;\n",
       "  }\n",
       "</style><div class='table-result-container'><table class='table-result'><thead style='background-color: white'><tr><th>year</th><th>count</th></tr></thead><tbody><tr><td>2020</td><td>444</td></tr><tr><td>2019</td><td>396</td></tr><tr><td>2018</td><td>365</td></tr><tr><td>2017</td><td>329</td></tr><tr><td>2016</td><td>283</td></tr><tr><td>2015</td><td>244</td></tr><tr><td>2014</td><td>242</td></tr><tr><td>2013</td><td>178</td></tr><tr><td>2012</td><td>165</td></tr><tr><td>2011</td><td>139</td></tr><tr><td>2010</td><td>112</td></tr></tbody></table></div>"
      ]
     },
     "metadata": {
      "application/vnd.databricks.v1+output": {
       "addedWidgets": {},
       "aggData": [],
       "aggError": "",
       "aggOverflow": false,
       "aggSchema": [],
       "aggSeriesLimitReached": false,
       "aggType": "",
       "arguments": {},
       "columnCustomDisplayInfos": {},
       "data": [
        [
         2020,
         444
        ],
        [
         2019,
         396
        ],
        [
         2018,
         365
        ],
        [
         2017,
         329
        ],
        [
         2016,
         283
        ],
        [
         2015,
         244
        ],
        [
         2014,
         242
        ],
        [
         2013,
         178
        ],
        [
         2012,
         165
        ],
        [
         2011,
         139
        ],
        [
         2010,
         112
        ]
       ],
       "datasetInfos": [],
       "dbfsResultPath": null,
       "isJsonSchema": true,
       "metadata": {},
       "overflow": false,
       "plotOptions": {
        "customPlotOptions": {},
        "displayType": "table",
        "pivotAggregation": null,
        "pivotColumns": null,
        "xColumns": null,
        "yColumns": null
       },
       "removedWidgets": [],
       "schema": [
        {
         "metadata": "{}",
         "name": "year",
         "type": "\"integer\""
        },
        {
         "metadata": "{}",
         "name": "count",
         "type": "\"long\""
        }
       ],
       "type": "table"
      }
     },
     "output_type": "display_data"
    },
    {
     "output_type": "display_data",
     "data": {
      "text/plain": [
       "Databricks visualization. Run in Databricks to view."
      ]
     },
     "metadata": {
      "application/vnd.databricks.v1.subcommand+json": {
       "baseErrorDetails": null,
       "bindings": {},
       "collapsed": false,
       "command": "%python\n__backend_agg_display_orig = display\n__backend_agg_dfs = []\ndef __backend_agg_display_new(df):\n    __backend_agg_df_modules = [\"pandas.core.frame\", \"databricks.koalas.frame\", \"pyspark.sql.dataframe\", \"pyspark.pandas.frame\", \"pyspark.sql.connect.dataframe\"]\n    if (type(df).__module__ in __backend_agg_df_modules and type(df).__name__ == 'DataFrame') or isinstance(df, list):\n        __backend_agg_dfs.append(df)\n\ndisplay = __backend_agg_display_new\n\ndef __backend_agg_user_code_fn():\n    import base64\n    exec(base64.standard_b64decode(\"I3F1ZXN0aW9uIDYKCnNlbGVjdGVkX2NvbHVtbnNfZm9yX3E2ID0gcHVibGljYXRpb25zX2RmLnNlbGVjdChjb2woImpvdXJuYWwubmFtZSIpLmFsaWFzKCJuYW1lIiksICJ5ZWFyIikKam9pbmVkX2RmID0gc2VsZWN0ZWRfY29sdW1uc19mb3JfcTYuam9pbihqb3VybmFsX2luZm8sIHNlbGVjdGVkX2NvbHVtbnNfZm9yX3E2Lm5hbWUgPT0gam91cm5hbF9pbmZvLmpvdXJuYWxfbmFtZSwgImxlZnQiKQpmaWx0ZXJlZF9kZiA9IGpvaW5lZF9kZi5maWx0ZXIoam9pbmVkX2RmLklGID49IDEpCnB1YmxpY2F0aW9uc19jb3VudCA9IGZpbHRlcmVkX2RmLmdyb3VwQnkoInllYXIiKS5jb3VudCgpCnB1YmxpY2F0aW9uc19jb3VudCA9IHB1YmxpY2F0aW9uc19jb3VudC53aXRoQ29sdW1uKCJ5ZWFyIiwgcHVibGljYXRpb25zX2NvdW50WyJ5ZWFyIl0uY2FzdCgiaW50ZWdlciIpKQpwdWJsaWNhdGlvbnNfY291bnQgPSBwdWJsaWNhdGlvbnNfY291bnQud2hlcmUoKHB1YmxpY2F0aW9uc19jb3VudC55ZWFyID49IDIwMTApICYgKHB1YmxpY2F0aW9uc19jb3VudC55ZWFyIDw9IDIwMjApKS5vcmRlckJ5KGRlc2MoInllYXIiKSkKcHVibGljYXRpb25zX2NvdW50LmRpc3BsYXkoKQoK\").decode())\n\ntry:\n    # run user code\n    __backend_agg_user_code_fn()\n\n    #reset display function\n    display = __backend_agg_display_orig\n\n    if len(__backend_agg_dfs) > 0:\n        # create a temp view\n        if type(__backend_agg_dfs[0]).__module__ == \"databricks.koalas.frame\":\n            # koalas dataframe\n            __backend_agg_dfs[0].to_spark().createOrReplaceTempView(\"DatabricksViewf71fe09\")\n        elif type(__backend_agg_dfs[0]).__module__ == \"pandas.core.frame\" or isinstance(__backend_agg_dfs[0], list):\n            # pandas dataframe\n            spark.createDataFrame(__backend_agg_dfs[0]).createOrReplaceTempView(\"DatabricksViewf71fe09\")\n        else:\n            __backend_agg_dfs[0].createOrReplaceTempView(\"DatabricksViewf71fe09\")\n        #run backend agg\n        display(spark.sql(\"\"\"WITH q AS (select * from DatabricksViewf71fe09) SELECT `year`,SUM(`count`) `column_aa79981d2` FROM q GROUP BY `year`\"\"\"))\n    else:\n        displayHTML(\"dataframe no longer exists. If you're using dataframe.display(), use display(dataframe) instead.\")\n\n\nfinally:\n    spark.sql(\"drop view if exists DatabricksViewf71fe09\")\n    display = __backend_agg_display_orig\n    del __backend_agg_display_new\n    del __backend_agg_display_orig\n    del __backend_agg_dfs\n    del __backend_agg_user_code_fn\n\n",
       "commandTitle": "Visualization 1",
       "commandType": "auto",
       "commandVersion": 0,
       "commentThread": [],
       "commentsVisible": false,
       "contentSha256Hex": null,
       "customPlotOptions": {
        "redashChart": [
         {
          "key": "type",
          "value": "CHART"
         },
         {
          "key": "options",
          "value": {
           "alignYAxesAtZero": true,
           "coefficient": 1,
           "columnConfigurationMap": {
            "x": {
             "column": "year",
             "id": "column_aa79981d1"
            },
            "y": [
             {
              "column": "count",
              "id": "column_aa79981d2",
              "transform": "SUM"
             }
            ]
           },
           "dateTimeFormat": "DD/MM/YYYY HH:mm",
           "direction": {
            "type": "counterclockwise"
           },
           "error_y": {
            "type": "data",
            "visible": true
           },
           "globalSeriesType": "line",
           "hideXAxis": false,
           "hideYAxes": false,
           "isAggregationOn": true,
           "legend": {
            "traceorder": "normal"
           },
           "missingValuesAsZero": true,
           "numberFormat": "0,0.[00000]",
           "percentFormat": "0[.]00%",
           "series": {
            "error_y": {
             "type": "data",
             "visible": true
            },
            "stacking": null
           },
           "seriesOptions": {
            "column_aa79981d2": {
             "name": "count",
             "type": "line",
             "yAxis": 0
            }
           },
           "showDataLabels": false,
           "sizemode": "diameter",
           "sortX": true,
           "sortY": true,
           "swappedAxes": false,
           "textFormat": "",
           "useAggregationsUi": true,
           "valuesOptions": {},
           "version": 2,
           "xAxis": {
            "labels": {
             "enabled": true
            },
            "type": "-"
           },
           "yAxis": [
            {
             "type": "-"
            },
            {
             "opposite": true,
             "type": "-"
            }
           ]
          }
         }
        ]
       },
       "datasetPreviewNameToCmdIdMap": {},
       "diffDeletes": [],
       "diffInserts": [],
       "displayType": "redashChart",
       "error": null,
       "errorDetails": null,
       "errorSummary": null,
       "errorTraceType": null,
       "finishTime": 0,
       "globalVars": {},
       "guid": "",
       "height": "404",
       "hideCommandCode": false,
       "hideCommandResult": false,
       "iPythonMetadata": null,
       "inputWidgets": {},
       "isLockedInExamMode": false,
       "latestUser": "a user",
       "latestUserId": null,
       "listResultMetadata": null,
       "metadata": {
        "byteLimit": 2048000,
        "rowLimit": 10000
       },
       "nuid": "044d850c-1965-443e-843a-042ec72a6be1",
       "origId": 0,
       "parentHierarchy": [],
       "pivotAggregation": null,
       "pivotColumns": null,
       "position": 8.0,
       "resultDbfsErrorMessage": null,
       "resultDbfsStatus": "INLINED_IN_TREE",
       "results": null,
       "showCommandTitle": false,
       "startTime": 0,
       "state": "finished",
       "streamStates": {},
       "subcommandOptions": {
        "queryPlan": {
         "groups": [
          {
           "column": "year",
           "type": "column"
          }
         ],
         "selects": [
          {
           "column": "year",
           "type": "column"
          },
          {
           "alias": "column_aa79981d2",
           "args": [
            {
             "column": "count",
             "type": "column"
            }
           ],
           "function": "SUM",
           "type": "function"
          }
         ]
        }
       },
       "submitTime": 0,
       "subtype": "tableResultSubCmd.visualization",
       "tableResultIndex": 0,
       "useConsistentColors": false,
       "version": "CommandV1",
       "width": "468",
       "workflows": [],
       "xColumns": null,
       "yColumns": null
      }
     },
     "output_type": "display_data"
    }
   ],
   "source": [
    "#question 6\n",
    "\n",
    "selected_columns_for_q6 = publications_df.select(col(\"journal.name\").alias(\"name\"), \"year\")\n",
    "joined_df = selected_columns_for_q6.join(journal_info, selected_columns_for_q6.name == journal_info.journal_name, \"left\")\n",
    "filtered_df = joined_df.filter(joined_df.IF >= 1)\n",
    "publications_count = filtered_df.groupBy(\"year\").count()\n",
    "publications_count = publications_count.withColumn(\"year\", publications_count[\"year\"].cast(\"integer\"))\n",
    "publications_count = publications_count.where((publications_count.year >= 2010) & (publications_count.year <= 2020)).orderBy(desc(\"year\"))\n",
    "publications_count.display()\n",
    "\n"
   ]
  }
 ],
 "metadata": {
  "application/vnd.databricks.v1+notebook": {
   "dashboards": [],
   "environmentMetadata": null,
   "language": "python",
   "notebookMetadata": {
    "pythonIndentUnit": 4
   },
   "notebookName": "Big data coursework DataFrame solution",
   "widgets": {}
  }
 },
 "nbformat": 4,
 "nbformat_minor": 0
}
